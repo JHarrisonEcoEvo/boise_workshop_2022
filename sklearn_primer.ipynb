{
 "cells": [
  {
   "cell_type": "markdown",
   "id": "1420fce4-4040-4dac-82c8-53fd28b2edd5",
   "metadata": {},
   "source": [
    "# A primer on scikit-Learn\n",
    "\n",
    "[scikit-learn](https://scikit-learn.org/stable/index.html) is a Python library that has a ton of easy to use machine learning functions. It was originally released in 2010 and has enjoyed active development and a lot of use since. It is open source and commercially usable, indeed various big names use it, including Spotify. Spotify tends to make better automated playlists than the other streaming services so that seems like as good a recommendation for scikit-learn as any!\n",
    "\n",
    "Install instructions are [here](https://scikit-learn.org/stable/install.html#installation-instructions), but you can use the regular conda or pip syntax unless you have an unusual situation.\n",
    "\n",
    "Probably best to make a conda environment for machine learning and install scikit-learn in there to avoid conflicts.\n",
    "\n",
    "Typically you will see scikit-learn loaded as sklearn and I will use that abbreviation henceforth.\n",
    "\n",
    "To illustrate how easy it is to do stuff with sklearn, lets do an example from Géron \"Hands-On Machine Learning with Scikit-Learn & TensorFlow\". I have modified the code a fair bit since some of the syntax in the book is deprecated. I also cribbed a lot of code from a sklearn [example](https://scikit-learn.org/stable/auto_examples/classification/plot_digits_classification.html). We will do the classic letter classification using MNIST.\n",
    "\n",
    "# MNIST fun\n",
    "First, load data. sklearn has a bunch of common datasets, including various small toy sets, like this one, and some large datasets that emulate real world problems. See [the package docs](https://scikit-learn.org/stable/datasets.html) for more.\n",
    "\n",
    "The images are 8x8 pixels of digits written somewhat crappily. "
   ]
  },
  {
   "cell_type": "code",
   "execution_count": 1,
   "id": "e211bd32-fd05-4442-8ef4-8567a6076a03",
   "metadata": {},
   "outputs": [
    {
     "data": {
      "text/plain": [
       "<Figure size 432x288 with 0 Axes>"
      ]
     },
     "metadata": {},
     "output_type": "display_data"
    },
    {
     "data": {
      "image/png": "[encoded data removed]",
      "text/plain": [
       "<Figure size 288x288 with 1 Axes>"
      ]
     },
     "metadata": {
      "needs_background": "light"
     },
     "output_type": "display_data"
    }
   ],
   "source": [
    "import matplotlib.pyplot as plt\n",
    "from sklearn import datasets, svm, metrics\n",
    "from sklearn.linear_model import SGDClassifier\n",
    "from sklearn.model_selection import train_test_split\n",
    "\n",
    "digits = datasets.load_digits()\n",
    "\n",
    "#check out the poorly drawn digit\n",
    "\n",
    "plt.gray() \n",
    "plt.matshow(digits.images[2]) \n",
    "plt.show() "
   ]
  },
  {
   "cell_type": "markdown",
   "id": "36e2f399-8d8c-419f-9aa7-b7fef2580ccc",
   "metadata": {},
   "source": [
    "We need to reshape the data so it works with our particular learner. len is length, so the first line tells us how many images we have. The images.reshape command is used to change the 8x8 image into a vector of shape (64,). Note the null value after the comma. I have found several machine learning tools need that format for input, e.g., (64,1) would not work, though that is what we might think the dimensions should be. "
   ]
  },
  {
   "cell_type": "code",
   "execution_count": 2,
   "id": "a8328010-2d9c-4119-a22a-49cf831983e5",
   "metadata": {},
   "outputs": [
    {
     "name": "stdout",
     "output_type": "stream",
     "text": [
      "(1797, 8, 8)\n",
      "(1797, 64)\n"
     ]
    }
   ],
   "source": [
    "# flatten the images\n",
    "n_samples = len(digits.images)\n",
    "\n",
    "print(digits.images.shape)\n",
    "data = digits.images.reshape((n_samples, -1))\n",
    "print(data.shape)"
   ]
  },
  {
   "cell_type": "code",
   "execution_count": 3,
   "id": "81c4d4f6-2104-4fe2-a827-553b5fa3478b",
   "metadata": {},
   "outputs": [
    {
     "name": "stdout",
     "output_type": "stream",
     "text": [
      "(1257, 64)\n",
      "(540, 64)\n"
     ]
    }
   ],
   "source": [
    "# Split data into 70% train and 30% test subsets\n",
    "x_train, x_test, y_train, y_test = train_test_split(\n",
    "    data, digits.target, test_size=0.3, shuffle=False, random_state = 666)\n",
    "\n",
    "print(x_train.shape)\n",
    "print(x_test.shape)"
   ]
  },
  {
   "cell_type": "markdown",
   "id": "d3dad93a-29c8-4ce8-a809-fb32bb804f25",
   "metadata": {},
   "source": [
    "Next, we need to do a train/test split. sklearn comes with some very handy tools for this. This is a simple example, where we do not attempt to stratify the split in any way. \"test_size\" refers to the proportion of the split going to testing data. \"shuffle\" is if the data should be shuffled before splitting, as would be needed if the data had been ordered in some way (as they probably will have been for many biology datasets). \"random_state\" is the seed for the shuffling.\n",
    "\n",
    "Next, we define a classifier. This just specifies the model, nothing is learned yet. We will use a support vector classifier, because that is what sklearn's example used. For large datasets this will be slow and some other classifier will probably work better. Like the SGDClassifier, which Géron uses. Heck, lets do that one too!"
   ]
  },
  {
   "cell_type": "code",
   "execution_count": 4,
   "id": "9eec4b0d-0cc5-4897-bb3f-82f6f979bf31",
   "metadata": {},
   "outputs": [],
   "source": [
    "# Create a support vector classifier\n",
    "clf = svm.SVC()"
   ]
  },
  {
   "cell_type": "code",
   "execution_count": 5,
   "id": "c9e0dea5-924d-4b16-8a44-522c58c1b85d",
   "metadata": {},
   "outputs": [],
   "source": [
    "#train\n",
    "clf.fit(x_train, y_train)\n",
    "#predict\n",
    "predicted = clf.predict(x_test)"
   ]
  },
  {
   "cell_type": "code",
   "execution_count": 6,
   "id": "fc28cbe4-d174-4eae-8fc5-fd2b81b35612",
   "metadata": {},
   "outputs": [
    {
     "data": {
      "image/png": "[encoded data removed]",
      "text/plain": [
       "<Figure size 720x216 with 4 Axes>"
      ]
     },
     "metadata": {
      "needs_background": "light"
     },
     "output_type": "display_data"
    }
   ],
   "source": [
    "_, axes = plt.subplots(nrows=1, ncols=4, figsize=(10, 3))\n",
    "for ax, image, prediction in zip(axes, x_test, predicted):\n",
    "    ax.set_axis_off()\n",
    "    image = image.reshape(8, 8)\n",
    "    ax.imshow(image, cmap=plt.cm.gray_r, interpolation='nearest')\n",
    "    ax.set_title(f'Prediction: {prediction}')"
   ]
  },
  {
   "cell_type": "markdown",
   "id": "c43906df-b07a-4074-b46b-a47b27b8d1bf",
   "metadata": {},
   "source": [
    "Here is some handy code to see how the classifier did. "
   ]
  },
  {
   "cell_type": "code",
   "execution_count": 7,
   "id": "7277832c-8806-4a5a-9a8a-7590989536d3",
   "metadata": {},
   "outputs": [
    {
     "name": "stdout",
     "output_type": "stream",
     "text": [
      "Classification report for classifier SVC():\n",
      "              precision    recall  f1-score   support\n",
      "\n",
      "           0       0.98      0.98      0.98        53\n",
      "           1       0.96      0.98      0.97        53\n",
      "           2       1.00      0.96      0.98        53\n",
      "           3       0.96      0.83      0.89        53\n",
      "           4       0.98      0.95      0.96        57\n",
      "           5       0.92      0.98      0.95        56\n",
      "           6       0.98      0.98      0.98        54\n",
      "           7       0.96      0.98      0.97        54\n",
      "           8       0.88      0.96      0.92        52\n",
      "           9       0.93      0.93      0.93        55\n",
      "\n",
      "    accuracy                           0.95       540\n",
      "   macro avg       0.95      0.95      0.95       540\n",
      "weighted avg       0.95      0.95      0.95       540\n",
      "\n",
      "\n"
     ]
    }
   ],
   "source": [
    "print(f\"Classification report for classifier {clf}:\\n\"\n",
    "      f\"{metrics.classification_report(y_test, predicted)}\\n\")"
   ]
  },
  {
   "cell_type": "markdown",
   "id": "d24b3dba-6480-464d-b035-d7a5354d36d7",
   "metadata": {},
   "source": [
    "Precision is the proportion of all positives that were correct. So it is a measure of how often the model is correct. Recall is  the ratio of true positives to true positives plus false negatives. So it can be thought of as how likely it is to identify a given digit either positively or negatively. See the [wiki](https://en.wikipedia.org/wiki/Precision_and_recall) page for more if this seems odd. \n",
    "\n",
    "F1 is the harmonic mean of precision and recall. Support is the number of times a particular class shows up in the data set (e.g., there are 53 number threes in this set).\n",
    "\n",
    "Let's repeat all this with the SGD classifier."
   ]
  },
  {
   "cell_type": "code",
   "execution_count": 8,
   "id": "22c260a3-d4a1-40ac-936c-662a9ab25849",
   "metadata": {},
   "outputs": [
    {
     "name": "stdout",
     "output_type": "stream",
     "text": [
      "Classification report for classifier SVC():\n",
      "              precision    recall  f1-score   support\n",
      "\n",
      "           0       0.96      0.98      0.97        53\n",
      "           1       0.76      0.83      0.79        53\n",
      "           2       1.00      1.00      1.00        53\n",
      "           3       0.95      0.75      0.84        53\n",
      "           4       0.98      0.89      0.94        57\n",
      "           5       0.93      0.96      0.95        56\n",
      "           6       0.95      0.98      0.96        54\n",
      "           7       1.00      0.89      0.94        54\n",
      "           8       0.71      0.90      0.80        52\n",
      "           9       0.91      0.87      0.89        55\n",
      "\n",
      "    accuracy                           0.91       540\n",
      "   macro avg       0.91      0.91      0.91       540\n",
      "weighted avg       0.92      0.91      0.91       540\n",
      "\n",
      "\n"
     ]
    },
    {
     "data": {
      "image/png": "[encoded data removed]",
      "text/plain": [
       "<Figure size 720x216 with 4 Axes>"
      ]
     },
     "metadata": {
      "needs_background": "light"
     },
     "output_type": "display_data"
    }
   ],
   "source": [
    "sgd = SGDClassifier(random_state = 666)\n",
    "#train\n",
    "sgd.fit(x_train, y_train)\n",
    "\n",
    "#predict\n",
    "predicted = sgd.predict(x_test)\n",
    "\n",
    "_, axes = plt.subplots(nrows=1, ncols=4, figsize=(10, 3))\n",
    "for ax, image, prediction in zip(axes, x_test, predicted):\n",
    "    ax.set_axis_off()\n",
    "    image = image.reshape(8, 8)\n",
    "    ax.imshow(image, cmap=plt.cm.gray_r, interpolation='nearest')\n",
    "    ax.set_title(f'Prediction: {prediction}')\n",
    "    \n",
    "print(f\"Classification report for classifier {clf}:\\n\"\n",
    "      f\"{metrics.classification_report(y_test, predicted)}\\n\")"
   ]
  },
  {
   "cell_type": "markdown",
   "id": "29db642a-5cf3-42f6-9a0c-18b89d2df55b",
   "metadata": {},
   "source": [
    "If we want to, we can plot a confusion matrix."
   ]
  },
  {
   "cell_type": "code",
   "execution_count": 9,
   "id": "59905199-31d5-4061-843d-6918658b90c2",
   "metadata": {},
   "outputs": [
    {
     "name": "stdout",
     "output_type": "stream",
     "text": [
      "Confusion matrix:\n",
      "[[52  0  0  0  1  0  0  0  0  0]\n",
      " [ 0 52  0  0  0  0  0  0  0  1]\n",
      " [ 1  0 51  1  0  0  0  0  0  0]\n",
      " [ 0  0  0 44  0  3  0  1  5  0]\n",
      " [ 0  0  0  0 54  0  0  0  1  2]\n",
      " [ 0  0  0  0  0 55  1  0  0  0]\n",
      " [ 0  1  0  0  0  0 53  0  0  0]\n",
      " [ 0  0  0  0  0  0  0 53  1  0]\n",
      " [ 0  1  0  0  0  0  0  0 50  1]\n",
      " [ 0  0  0  1  0  2  0  1  0 51]]\n"
     ]
    },
    {
     "name": "stderr",
     "output_type": "stream",
     "text": [
      "/Users/joshuaharrison/opt/anaconda3/envs/sklearn-env/lib/python3.10/site-packages/sklearn/utils/deprecation.py:87: FutureWarning: Function plot_confusion_matrix is deprecated; Function `plot_confusion_matrix` is deprecated in 1.0 and will be removed in 1.2. Use one of the class methods: ConfusionMatrixDisplay.from_predictions or ConfusionMatrixDisplay.from_estimator.\n",
      "  warnings.warn(msg, category=FutureWarning)\n"
     ]
    },
    {
     "data": {
      "image/png": "[encoded data removed]",
      "text/plain": [
       "<Figure size 432x288 with 2 Axes>"
      ]
     },
     "metadata": {
      "needs_background": "light"
     },
     "output_type": "display_data"
    }
   ],
   "source": [
    "disp = metrics.plot_confusion_matrix(clf, x_test, y_test)\n",
    "disp.figure_.suptitle(\"Confusion Matrix\")\n",
    "print(f\"Confusion matrix:\\n{disp.confusion_matrix}\")\n",
    "\n",
    "plt.show()"
   ]
  },
  {
   "cell_type": "markdown",
   "id": "fccf01ba-feef-40da-a4a1-c74484b7413d",
   "metadata": {},
   "source": [
    "This is telling us truth versus predicted for each class. The diagonal line shows the number of times the model did well and the off-diagonal values show how the model failed.\n",
    "\n",
    "# Sklearn seems cool, what else?\n",
    "\n",
    "From the docs: \"scikit-learn has on the order of 100 to 200 models (more generally called \"estimators\"), split into three categories: <br>\n",
    "Supervised Learning (linear regression, support vector machines, random forest, neural nets, ...)<br>\n",
    "Unsupervised Learning (clustering, PCA, mixture models, manifold learning, ...)<br>\n",
    "Dataset Transformation (preprocessing, text feature extraction, one-hot encoding, ...)<br>\n",
    "\n",
    "Each model that I have messed with has a huge number of parameters to play with and, as we have seen, plotting useful output can be pretty simple with matplotlib. Also, sklearn can do some of its own plots too. But, what really seems to be sweet about sklearn, is how you can make Pipeline class objects that codify various preprocessing (feature engineering) steps and then \"exposes\" these methods to the estimator. In effect, it is a way to make a function that does a bunch of preprocessing steps easily and then feeds the engineered data product into a model. This is great because then you can try different parameters for the estimator or for preprocessing and then do model comparison. From the docs..."
   ]
  },
  {
   "cell_type": "code",
   "execution_count": 10,
   "id": "3c7d82ab-9e12-4aa9-b299-3aa245c294ba",
   "metadata": {},
   "outputs": [
    {
     "data": {
      "text/plain": [
       "0.88"
      ]
     },
     "execution_count": 10,
     "metadata": {},
     "output_type": "execute_result"
    }
   ],
   "source": [
    "from sklearn.preprocessing import StandardScaler\n",
    "from sklearn.svm import SVC\n",
    "from sklearn.datasets import make_classification\n",
    "from sklearn.pipeline import Pipeline\n",
    "X, y = make_classification(random_state=0)\n",
    "X_train, X_test, y_train, y_test = train_test_split(X, y,random_state=0)\n",
    "pipe = Pipeline([('scaler', StandardScaler()), ('svc', SVC())])\n",
    "pipe.fit(X_train, y_train)\n",
    "#Call the pipeline\n",
    "Pipeline(steps=[('scaler', StandardScaler()), ('svc', SVC())])\n",
    "pipe.score(X_test, y_test)"
   ]
  },
  {
   "cell_type": "markdown",
   "id": "67dac16d-977a-4886-b596-cc7fab4a82fb",
   "metadata": {},
   "source": [
    "This may not seem that great, but say you want to do all this stuff to your data:\n",
    "\n",
    "1. impute data\n",
    "2. combine or modify certain features\n",
    "3. scale and center (calculate z scores) features. \n",
    "4. One hot encode a bunch of stuff. \n",
    "5. combine numeric and one-hot encoded categorical features into one giant matrix\n",
    "\n",
    "You could put all this stuff in a pipeline that feeds straight into an estimator (model). Pretty handy. I copied some code demonstrating this from [HERE](https://towardsdatascience.com/10-things-you-didnt-know-about-scikit-learn-cccc94c50e4f).\n",
    "\n",
    "Note that the machine learning APIs mlr3 (R) and tidymodels (R) also have this functionality."
   ]
  },
  {
   "cell_type": "code",
   "execution_count": 11,
   "id": "3b39e740-a6aa-4512-b511-e586c06c0fc3",
   "metadata": {},
   "outputs": [
    {
     "name": "stdout",
     "output_type": "stream",
     "text": [
      "model score: 0.766\n"
     ]
    }
   ],
   "source": [
    "from sklearn import model_selection\n",
    "from sklearn.linear_model import LinearRegression\n",
    "from sklearn.datasets import fetch_openml\n",
    "from sklearn.compose import ColumnTransformer\n",
    "from sklearn.pipeline import Pipeline\n",
    "from sklearn.impute import SimpleImputer\n",
    "from sklearn.preprocessing import StandardScaler, OneHotEncoder\n",
    "\n",
    "# Load auto93 data set which contains both categorical and numeric features\n",
    "X,y = fetch_openml(\"auto93\", version=1, as_frame=True, return_X_y=True)\n",
    "\n",
    "# Create lists of numeric and categorical features  \n",
    "numeric_features = X.select_dtypes(include=['int64', 'float64']).columns\n",
    "categorical_features = X.select_dtypes(include=['object']).columns\n",
    "\n",
    "X_train, X_test, y_train, y_test = model_selection.train_test_split(X, y, random_state=0)\n",
    "\n",
    "# Create a numeric and categorical transformer to perform preprocessing steps\n",
    "numeric_transformer = Pipeline(steps=[\n",
    "    ('imputer', SimpleImputer(strategy='median')),\n",
    "    ('scaler', StandardScaler())])\n",
    "\n",
    "categorical_transformer = Pipeline(steps=[\n",
    "    ('imputer', SimpleImputer(strategy='constant', fill_value='missing')),\n",
    "    ('onehot', OneHotEncoder(handle_unknown='ignore'))])\n",
    "\n",
    "# Use the ColumnTransformer to apply to the correct features\n",
    "preprocessor = ColumnTransformer(\n",
    "    transformers=[\n",
    "        ('num', numeric_transformer, numeric_features),\n",
    "        ('cat', categorical_transformer, categorical_features)])\n",
    "\n",
    "# Append regressor to the preprocessor\n",
    "lr = Pipeline(steps=[('preprocessor', preprocessor),\n",
    "                      ('classifier', LinearRegression())])\n",
    "\n",
    "# Fit the complete pipeline\n",
    "lr.fit(X_train, y_train)\n",
    "print(\"model score: %.3f\" % lr.score(X_test, y_test))"
   ]
  },
  {
   "cell_type": "markdown",
   "id": "67cc9fd0-f06b-4fe3-af11-e5a9ce44d5f9",
   "metadata": {},
   "source": [
    "Make a html flowchart, bc why not. Code from the last referenced link.  "
   ]
  },
  {
   "cell_type": "code",
   "execution_count": 12,
   "id": "29f17270-a421-40b9-a180-89e08b6d6ea5",
   "metadata": {},
   "outputs": [
    {
     "data": {
      "text/html": [
       "<style>#sk-987f87f8-dd2c-4e61-b19e-6330ee3a1fd0 {color: black;background-color: white;}#sk-987f87f8-dd2c-4e61-b19e-6330ee3a1fd0 pre{padding: 0;}#sk-987f87f8-dd2c-4e61-b19e-6330ee3a1fd0 div.sk-toggleable {background-color: white;}#sk-987f87f8-dd2c-4e61-b19e-6330ee3a1fd0 label.sk-toggleable__label {cursor: pointer;display: block;width: 100%;margin-bottom: 0;padding: 0.3em;box-sizing: border-box;text-align: center;}#sk-987f87f8-dd2c-4e61-b19e-6330ee3a1fd0 label.sk-toggleable__label-arrow:before {content: \"▸\";float: left;margin-right: 0.25em;color: #696969;}#sk-987f87f8-dd2c-4e61-b19e-6330ee3a1fd0 label.sk-toggleable__label-arrow:hover:before {color: black;}#sk-987f87f8-dd2c-4e61-b19e-6330ee3a1fd0 div.sk-estimator:hover label.sk-toggleable__label-arrow:before {color: black;}#sk-987f87f8-dd2c-4e61-b19e-6330ee3a1fd0 div.sk-toggleable__content {max-height: 0;max-width: 0;overflow: hidden;text-align: left;background-color: #f0f8ff;}#sk-987f87f8-dd2c-4e61-b19e-6330ee3a1fd0 div.sk-toggleable__content pre {margin: 0.2em;color: black;border-radius: 0.25em;background-color: #f0f8ff;}#sk-987f87f8-dd2c-4e61-b19e-6330ee3a1fd0 input.sk-toggleable__control:checked~div.sk-toggleable__content {max-height: 200px;max-width: 100%;overflow: auto;}#sk-987f87f8-dd2c-4e61-b19e-6330ee3a1fd0 input.sk-toggleable__control:checked~label.sk-toggleable__label-arrow:before {content: \"▾\";}#sk-987f87f8-dd2c-4e61-b19e-6330ee3a1fd0 div.sk-estimator input.sk-toggleable__control:checked~label.sk-toggleable__label {background-color: #d4ebff;}#sk-987f87f8-dd2c-4e61-b19e-6330ee3a1fd0 div.sk-label input.sk-toggleable__control:checked~label.sk-toggleable__label {background-color: #d4ebff;}#sk-987f87f8-dd2c-4e61-b19e-6330ee3a1fd0 input.sk-hidden--visually {border: 0;clip: rect(1px 1px 1px 1px);clip: rect(1px, 1px, 1px, 1px);height: 1px;margin: -1px;overflow: hidden;padding: 0;position: absolute;width: 1px;}#sk-987f87f8-dd2c-4e61-b19e-6330ee3a1fd0 div.sk-estimator {font-family: monospace;background-color: #f0f8ff;border: 1px dotted black;border-radius: 0.25em;box-sizing: border-box;margin-bottom: 0.5em;}#sk-987f87f8-dd2c-4e61-b19e-6330ee3a1fd0 div.sk-estimator:hover {background-color: #d4ebff;}#sk-987f87f8-dd2c-4e61-b19e-6330ee3a1fd0 div.sk-parallel-item::after {content: \"\";width: 100%;border-bottom: 1px solid gray;flex-grow: 1;}#sk-987f87f8-dd2c-4e61-b19e-6330ee3a1fd0 div.sk-label:hover label.sk-toggleable__label {background-color: #d4ebff;}#sk-987f87f8-dd2c-4e61-b19e-6330ee3a1fd0 div.sk-serial::before {content: \"\";position: absolute;border-left: 1px solid gray;box-sizing: border-box;top: 2em;bottom: 0;left: 50%;}#sk-987f87f8-dd2c-4e61-b19e-6330ee3a1fd0 div.sk-serial {display: flex;flex-direction: column;align-items: center;background-color: white;padding-right: 0.2em;padding-left: 0.2em;}#sk-987f87f8-dd2c-4e61-b19e-6330ee3a1fd0 div.sk-item {z-index: 1;}#sk-987f87f8-dd2c-4e61-b19e-6330ee3a1fd0 div.sk-parallel {display: flex;align-items: stretch;justify-content: center;background-color: white;}#sk-987f87f8-dd2c-4e61-b19e-6330ee3a1fd0 div.sk-parallel::before {content: \"\";position: absolute;border-left: 1px solid gray;box-sizing: border-box;top: 2em;bottom: 0;left: 50%;}#sk-987f87f8-dd2c-4e61-b19e-6330ee3a1fd0 div.sk-parallel-item {display: flex;flex-direction: column;position: relative;background-color: white;}#sk-987f87f8-dd2c-4e61-b19e-6330ee3a1fd0 div.sk-parallel-item:first-child::after {align-self: flex-end;width: 50%;}#sk-987f87f8-dd2c-4e61-b19e-6330ee3a1fd0 div.sk-parallel-item:last-child::after {align-self: flex-start;width: 50%;}#sk-987f87f8-dd2c-4e61-b19e-6330ee3a1fd0 div.sk-parallel-item:only-child::after {width: 0;}#sk-987f87f8-dd2c-4e61-b19e-6330ee3a1fd0 div.sk-dashed-wrapped {border: 1px dashed gray;margin: 0 0.4em 0.5em 0.4em;box-sizing: border-box;padding-bottom: 0.4em;background-color: white;position: relative;}#sk-987f87f8-dd2c-4e61-b19e-6330ee3a1fd0 div.sk-label label {font-family: monospace;font-weight: bold;background-color: white;display: inline-block;line-height: 1.2em;}#sk-987f87f8-dd2c-4e61-b19e-6330ee3a1fd0 div.sk-label-container {position: relative;z-index: 2;text-align: center;}#sk-987f87f8-dd2c-4e61-b19e-6330ee3a1fd0 div.sk-container {/* jupyter's `normalize.less` sets `[hidden] { display: none; }` but bootstrap.min.css set `[hidden] { display: none !important; }` so we also need the `!important` here to be able to override the default hidden behavior on the sphinx rendered scikit-learn.org. See: https://github.com/scikit-learn/scikit-learn/issues/21755 */display: inline-block !important;position: relative;}#sk-987f87f8-dd2c-4e61-b19e-6330ee3a1fd0 div.sk-text-repr-fallback {display: none;}</style><div id=\"sk-987f87f8-dd2c-4e61-b19e-6330ee3a1fd0\" class=\"sk-top-container\"><div class=\"sk-text-repr-fallback\"><pre>Pipeline(steps=[(&#x27;preprocessor&#x27;,\n",
       "                 ColumnTransformer(transformers=[(&#x27;num&#x27;,\n",
       "                                                  Pipeline(steps=[(&#x27;imputer&#x27;,\n",
       "                                                                   SimpleImputer(strategy=&#x27;median&#x27;)),\n",
       "                                                                  (&#x27;scaler&#x27;,\n",
       "                                                                   StandardScaler())]),\n",
       "                                                  Index([&#x27;City_MPG&#x27;, &#x27;Highway_MPG&#x27;, &#x27;Number_of_cylinders&#x27;, &#x27;Engine_size&#x27;,\n",
       "       &#x27;Horsepower&#x27;, &#x27;RPM&#x27;, &#x27;Engine_revolutions_per_mile&#x27;,\n",
       "       &#x27;Fuel_tank_capacity&#x27;, &#x27;Passenger_capacity&#x27;, &#x27;Length&#x27;, &#x27;Wheelbase&#x27;,\n",
       "       &#x27;Width&#x27;, &#x27;U-turn_space&#x27;, &#x27;Rear_seat_room&#x27;, &#x27;Luggage_capacity&#x27;,\n",
       "       &#x27;Weight&#x27;],\n",
       "      dtype=&#x27;object&#x27;)),\n",
       "                                                 (&#x27;cat&#x27;,\n",
       "                                                  Pipeline(steps=[(&#x27;imputer&#x27;,\n",
       "                                                                   SimpleImputer(fill_value=&#x27;missing&#x27;,\n",
       "                                                                                 strategy=&#x27;constant&#x27;)),\n",
       "                                                                  (&#x27;onehot&#x27;,\n",
       "                                                                   OneHotEncoder(handle_unknown=&#x27;ignore&#x27;))]),\n",
       "                                                  Index([], dtype=&#x27;object&#x27;))])),\n",
       "                (&#x27;classifier&#x27;, LinearRegression())])</pre><b>Please rerun this cell to show the HTML repr or trust the notebook.</b></div><div class=\"sk-container\" hidden><div class=\"sk-item sk-dashed-wrapped\"><div class=\"sk-label-container\"><div class=\"sk-label sk-toggleable\"><input class=\"sk-toggleable__control sk-hidden--visually\" id=\"6453b0a3-67c4-4029-a54c-dfdb3f67b276\" type=\"checkbox\" ><label for=\"6453b0a3-67c4-4029-a54c-dfdb3f67b276\" class=\"sk-toggleable__label sk-toggleable__label-arrow\">Pipeline</label><div class=\"sk-toggleable__content\"><pre>Pipeline(steps=[(&#x27;preprocessor&#x27;,\n",
       "                 ColumnTransformer(transformers=[(&#x27;num&#x27;,\n",
       "                                                  Pipeline(steps=[(&#x27;imputer&#x27;,\n",
       "                                                                   SimpleImputer(strategy=&#x27;median&#x27;)),\n",
       "                                                                  (&#x27;scaler&#x27;,\n",
       "                                                                   StandardScaler())]),\n",
       "                                                  Index([&#x27;City_MPG&#x27;, &#x27;Highway_MPG&#x27;, &#x27;Number_of_cylinders&#x27;, &#x27;Engine_size&#x27;,\n",
       "       &#x27;Horsepower&#x27;, &#x27;RPM&#x27;, &#x27;Engine_revolutions_per_mile&#x27;,\n",
       "       &#x27;Fuel_tank_capacity&#x27;, &#x27;Passenger_capacity&#x27;, &#x27;Length&#x27;, &#x27;Wheelbase&#x27;,\n",
       "       &#x27;Width&#x27;, &#x27;U-turn_space&#x27;, &#x27;Rear_seat_room&#x27;, &#x27;Luggage_capacity&#x27;,\n",
       "       &#x27;Weight&#x27;],\n",
       "      dtype=&#x27;object&#x27;)),\n",
       "                                                 (&#x27;cat&#x27;,\n",
       "                                                  Pipeline(steps=[(&#x27;imputer&#x27;,\n",
       "                                                                   SimpleImputer(fill_value=&#x27;missing&#x27;,\n",
       "                                                                                 strategy=&#x27;constant&#x27;)),\n",
       "                                                                  (&#x27;onehot&#x27;,\n",
       "                                                                   OneHotEncoder(handle_unknown=&#x27;ignore&#x27;))]),\n",
       "                                                  Index([], dtype=&#x27;object&#x27;))])),\n",
       "                (&#x27;classifier&#x27;, LinearRegression())])</pre></div></div></div><div class=\"sk-serial\"><div class=\"sk-item sk-dashed-wrapped\"><div class=\"sk-label-container\"><div class=\"sk-label sk-toggleable\"><input class=\"sk-toggleable__control sk-hidden--visually\" id=\"9c6eadbd-236b-41b6-a20e-457071e0fdf8\" type=\"checkbox\" ><label for=\"9c6eadbd-236b-41b6-a20e-457071e0fdf8\" class=\"sk-toggleable__label sk-toggleable__label-arrow\">preprocessor: ColumnTransformer</label><div class=\"sk-toggleable__content\"><pre>ColumnTransformer(transformers=[(&#x27;num&#x27;,\n",
       "                                 Pipeline(steps=[(&#x27;imputer&#x27;,\n",
       "                                                  SimpleImputer(strategy=&#x27;median&#x27;)),\n",
       "                                                 (&#x27;scaler&#x27;, StandardScaler())]),\n",
       "                                 Index([&#x27;City_MPG&#x27;, &#x27;Highway_MPG&#x27;, &#x27;Number_of_cylinders&#x27;, &#x27;Engine_size&#x27;,\n",
       "       &#x27;Horsepower&#x27;, &#x27;RPM&#x27;, &#x27;Engine_revolutions_per_mile&#x27;,\n",
       "       &#x27;Fuel_tank_capacity&#x27;, &#x27;Passenger_capacity&#x27;, &#x27;Length&#x27;, &#x27;Wheelbase&#x27;,\n",
       "       &#x27;Width&#x27;, &#x27;U-turn_space&#x27;, &#x27;Rear_seat_room&#x27;, &#x27;Luggage_capacity&#x27;,\n",
       "       &#x27;Weight&#x27;],\n",
       "      dtype=&#x27;object&#x27;)),\n",
       "                                (&#x27;cat&#x27;,\n",
       "                                 Pipeline(steps=[(&#x27;imputer&#x27;,\n",
       "                                                  SimpleImputer(fill_value=&#x27;missing&#x27;,\n",
       "                                                                strategy=&#x27;constant&#x27;)),\n",
       "                                                 (&#x27;onehot&#x27;,\n",
       "                                                  OneHotEncoder(handle_unknown=&#x27;ignore&#x27;))]),\n",
       "                                 Index([], dtype=&#x27;object&#x27;))])</pre></div></div></div><div class=\"sk-parallel\"><div class=\"sk-parallel-item\"><div class=\"sk-item\"><div class=\"sk-label-container\"><div class=\"sk-label sk-toggleable\"><input class=\"sk-toggleable__control sk-hidden--visually\" id=\"6859f438-cab9-4c3e-8b8b-481c0791e777\" type=\"checkbox\" ><label for=\"6859f438-cab9-4c3e-8b8b-481c0791e777\" class=\"sk-toggleable__label sk-toggleable__label-arrow\">num</label><div class=\"sk-toggleable__content\"><pre>Index([&#x27;City_MPG&#x27;, &#x27;Highway_MPG&#x27;, &#x27;Number_of_cylinders&#x27;, &#x27;Engine_size&#x27;,\n",
       "       &#x27;Horsepower&#x27;, &#x27;RPM&#x27;, &#x27;Engine_revolutions_per_mile&#x27;,\n",
       "       &#x27;Fuel_tank_capacity&#x27;, &#x27;Passenger_capacity&#x27;, &#x27;Length&#x27;, &#x27;Wheelbase&#x27;,\n",
       "       &#x27;Width&#x27;, &#x27;U-turn_space&#x27;, &#x27;Rear_seat_room&#x27;, &#x27;Luggage_capacity&#x27;,\n",
       "       &#x27;Weight&#x27;],\n",
       "      dtype=&#x27;object&#x27;)</pre></div></div></div><div class=\"sk-serial\"><div class=\"sk-item\"><div class=\"sk-serial\"><div class=\"sk-item\"><div class=\"sk-estimator sk-toggleable\"><input class=\"sk-toggleable__control sk-hidden--visually\" id=\"63cd806a-c6e6-43fa-a9af-f4e5f454b316\" type=\"checkbox\" ><label for=\"63cd806a-c6e6-43fa-a9af-f4e5f454b316\" class=\"sk-toggleable__label sk-toggleable__label-arrow\">SimpleImputer</label><div class=\"sk-toggleable__content\"><pre>SimpleImputer(strategy=&#x27;median&#x27;)</pre></div></div></div><div class=\"sk-item\"><div class=\"sk-estimator sk-toggleable\"><input class=\"sk-toggleable__control sk-hidden--visually\" id=\"d92114e9-41f5-4b1b-be27-8f88d44e2bd0\" type=\"checkbox\" ><label for=\"d92114e9-41f5-4b1b-be27-8f88d44e2bd0\" class=\"sk-toggleable__label sk-toggleable__label-arrow\">StandardScaler</label><div class=\"sk-toggleable__content\"><pre>StandardScaler()</pre></div></div></div></div></div></div></div></div><div class=\"sk-parallel-item\"><div class=\"sk-item\"><div class=\"sk-label-container\"><div class=\"sk-label sk-toggleable\"><input class=\"sk-toggleable__control sk-hidden--visually\" id=\"b21195f0-5a47-4ab1-b5ab-ed9504868329\" type=\"checkbox\" ><label for=\"b21195f0-5a47-4ab1-b5ab-ed9504868329\" class=\"sk-toggleable__label sk-toggleable__label-arrow\">cat</label><div class=\"sk-toggleable__content\"><pre>Index([], dtype=&#x27;object&#x27;)</pre></div></div></div><div class=\"sk-serial\"><div class=\"sk-item\"><div class=\"sk-serial\"><div class=\"sk-item\"><div class=\"sk-estimator sk-toggleable\"><input class=\"sk-toggleable__control sk-hidden--visually\" id=\"9ced6392-7fb6-4a43-b927-eda01548c42c\" type=\"checkbox\" ><label for=\"9ced6392-7fb6-4a43-b927-eda01548c42c\" class=\"sk-toggleable__label sk-toggleable__label-arrow\">SimpleImputer</label><div class=\"sk-toggleable__content\"><pre>SimpleImputer(fill_value=&#x27;missing&#x27;, strategy=&#x27;constant&#x27;)</pre></div></div></div><div class=\"sk-item\"><div class=\"sk-estimator sk-toggleable\"><input class=\"sk-toggleable__control sk-hidden--visually\" id=\"cc76e0b1-e6a8-411c-844a-93ce7b2627fc\" type=\"checkbox\" ><label for=\"cc76e0b1-e6a8-411c-844a-93ce7b2627fc\" class=\"sk-toggleable__label sk-toggleable__label-arrow\">OneHotEncoder</label><div class=\"sk-toggleable__content\"><pre>OneHotEncoder(handle_unknown=&#x27;ignore&#x27;)</pre></div></div></div></div></div></div></div></div></div></div><div class=\"sk-item\"><div class=\"sk-estimator sk-toggleable\"><input class=\"sk-toggleable__control sk-hidden--visually\" id=\"d9529729-34d0-4feb-bf77-013536523d3d\" type=\"checkbox\" ><label for=\"d9529729-34d0-4feb-bf77-013536523d3d\" class=\"sk-toggleable__label sk-toggleable__label-arrow\">LinearRegression</label><div class=\"sk-toggleable__content\"><pre>LinearRegression()</pre></div></div></div></div></div></div></div>"
      ],
      "text/plain": [
       "Pipeline(steps=[('preprocessor',\n",
       "                 ColumnTransformer(transformers=[('num',\n",
       "                                                  Pipeline(steps=[('imputer',\n",
       "                                                                   SimpleImputer(strategy='median')),\n",
       "                                                                  ('scaler',\n",
       "                                                                   StandardScaler())]),\n",
       "                                                  Index(['City_MPG', 'Highway_MPG', 'Number_of_cylinders', 'Engine_size',\n",
       "       'Horsepower', 'RPM', 'Engine_revolutions_per_mile',\n",
       "       'Fuel_tank_capacity', 'Passenger_capacity', 'Length', 'Wheelbase',\n",
       "       'Width', 'U-turn_space', 'Rear_seat_room', 'Luggage_capacity',\n",
       "       'Weight'],\n",
       "      dtype='object')),\n",
       "                                                 ('cat',\n",
       "                                                  Pipeline(steps=[('imputer',\n",
       "                                                                   SimpleImputer(fill_value='missing',\n",
       "                                                                                 strategy='constant')),\n",
       "                                                                  ('onehot',\n",
       "                                                                   OneHotEncoder(handle_unknown='ignore'))]),\n",
       "                                                  Index([], dtype='object'))])),\n",
       "                ('classifier', LinearRegression())])"
      ]
     },
     "execution_count": 12,
     "metadata": {},
     "output_type": "execute_result"
    }
   ],
   "source": [
    "from sklearn import set_config\n",
    "\n",
    "set_config(display='diagram')   \n",
    "\n",
    "lr"
   ]
  }
 ],
 "metadata": {
  "kernelspec": {
   "display_name": "Python 3 (ipykernel)",
   "language": "python",
   "name": "python3"
  },
  "language_info": {
   "codemirror_mode": {
    "name": "ipython",
    "version": 3
   },
   "file_extension": ".py",
   "mimetype": "text/x-python",
   "name": "python",
   "nbconvert_exporter": "python",
   "pygments_lexer": "ipython3",
   "version": "3.10.4"
  }
 },
 "nbformat": 4,
 "nbformat_minor": 5
}
